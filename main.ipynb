{
 "cells": [
  {
   "cell_type": "markdown",
   "id": "806b0b76",
   "metadata": {},
   "source": [
    "# DIG: Personal Music Analysis"
   ]
  },
  {
   "cell_type": "code",
   "execution_count": null,
   "id": "b07a757c",
   "metadata": {},
   "outputs": [],
   "source": [
    "import dig.lib"
   ]
  }
 ],
 "metadata": {
  "kernelspec": {
   "display_name": ".venv",
   "language": "python",
   "name": "python3"
  },
  "language_info": {
   "name": "python",
   "version": "3.12.10"
  }
 },
 "nbformat": 4,
 "nbformat_minor": 5
}
